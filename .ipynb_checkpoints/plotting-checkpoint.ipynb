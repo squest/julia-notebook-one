{
 "cells": [
  {
   "cell_type": "code",
   "execution_count": 28,
   "metadata": {
    "collapsed": false,
    "scrolled": true
   },
   "outputs": [],
   "source": [
    "using Gadfly"
   ]
  },
  {
   "cell_type": "code",
   "execution_count": 16,
   "metadata": {
    "collapsed": false
   },
   "outputs": [
    {
     "data": {
      "text/plain": [
       "1000000000000000000000000000000000000000000000000000000000000000000000000000000000000000000000000000000000000000000000000000000000000000000000000000000000000000000000000000000000000000000000000000000000000000000000000000000000000000000000000000000000000000000000000000000000000000000000000000000000000000000000000000000000000000000000000000000000000000000000000000000000000000000000000000000000000000000000000000000000000000000000000000000000000000000000000000000000000000000000000000000000000000000000000000000000000000000000000000000000000000000000000000000000000000000000000000000000000000000000000000000000000000000000000000000000000000000000000000000000000000000000000000000000000000000000000000000000000000000000000000000000000000000000000000000000000000000000000000000000000000000000000000000000000000000000000000000000000000000000000000000000000000000000000000000000000000000000000000000000000000000000000000000000000000000000000000000000000000000000000000000000000000000000000000000000000000"
      ]
     },
     "execution_count": 16,
     "metadata": {},
     "output_type": "execute_result"
    }
   ],
   "source": [
    "m = ^(BigInt(10), 999)"
   ]
  },
  {
   "cell_type": "code",
   "execution_count": 9,
   "metadata": {
    "collapsed": false
   },
   "outputs": [
    {
     "data": {
      "text/plain": [
       "sol3 (generic function with 1 method)"
      ]
     },
     "execution_count": 9,
     "metadata": {},
     "output_type": "execute_result"
    }
   ],
   "source": [
    "function sol3(n :: Int)\n",
    "    cur :: Int, a :: Int = 3,n\n",
    "    for i = 3:2:n\n",
    "        if 0 == rem(a,i)\n",
    "            if oddprime(i)\n",
    "                cur = i\n",
    "                while true \n",
    "                    a = div(a,i)\n",
    "                    if 0 != rem(a,i)\n",
    "                        if a == 1\n",
    "                            return i\n",
    "                        end\n",
    "                        break\n",
    "                    end\n",
    "                end\n",
    "            end\n",
    "        end\n",
    "    end\n",
    "end"
   ]
  },
  {
   "cell_type": "code",
   "execution_count": 8,
   "metadata": {
    "collapsed": false
   },
   "outputs": [
    {
     "data": {
      "text/plain": [
       "oddprime (generic function with 1 method)"
      ]
     },
     "execution_count": 8,
     "metadata": {},
     "output_type": "execute_result"
    }
   ],
   "source": [
    "function oddprime(n::Int)\n",
    "    lim :: Int = isqrt(n)\n",
    "    for i = 3:2:lim\n",
    "        if 0 == rem(n,i)\n",
    "            return false\n",
    "        end\n",
    "    end\n",
    "    true\n",
    "end"
   ]
  },
  {
   "cell_type": "code",
   "execution_count": 3,
   "metadata": {
    "collapsed": false
   },
   "outputs": [
    {
     "data": {
      "text/plain": [
       "sol23 (generic function with 1 method)"
      ]
     },
     "execution_count": 3,
     "metadata": {},
     "output_type": "execute_result"
    }
   ],
   "source": [
    "function sol23(lim :: Int)\n",
    "    abuns :: Array = jumfak(lim)\n",
    "    maxi :: Int = length(abuns)\n",
    "    refs :: Array = falses(lim)\n",
    "    for i = 1:div(maxi,2)\n",
    "        iref :: Int = abuns[i]\n",
    "        for j = i:maxi\n",
    "            jref :: Int = abuns[j]\n",
    "            ijref :: Int = iref+jref\n",
    "            if ijref > lim\n",
    "                break\n",
    "            end\n",
    "            refs[ijref] = true\n",
    "        end\n",
    "    end\n",
    "    res :: Int = div(lim*(lim+1),2)\n",
    "    for i = 1:lim\n",
    "        if refs[i]\n",
    "            res -= i\n",
    "        end\n",
    "    end\n",
    "    res\n",
    "end"
   ]
  },
  {
   "cell_type": "code",
   "execution_count": 2,
   "metadata": {
    "collapsed": false
   },
   "outputs": [
    {
     "data": {
      "text/plain": [
       "jumfak (generic function with 1 method)"
      ]
     },
     "execution_count": 2,
     "metadata": {},
     "output_type": "execute_result"
    }
   ],
   "source": [
    "function jumfak(lim :: Int)\n",
    "    faks :: Array = ones(lim)\n",
    "    llim :: Int = isqrt(lim)\n",
    "    for i = 2:llim\n",
    "        isqr :: Int = i*i\n",
    "        for j = i*i:i:lim\n",
    "            if j == isqr\n",
    "                faks[j] += i\n",
    "            else\n",
    "                faks[j] += i + div(j,i)\n",
    "            end\n",
    "        end\n",
    "    end\n",
    "    filter(x -> x < faks[x], 1:lim)\n",
    "end"
   ]
  },
  {
   "cell_type": "code",
   "execution_count": 14,
   "metadata": {
    "collapsed": false
   },
   "outputs": [
    {
     "data": {
      "text/plain": [
       "lfibo (generic function with 1 method)"
      ]
     },
     "execution_count": 14,
     "metadata": {},
     "output_type": "execute_result"
    }
   ],
   "source": [
    "function lfibo(lim :: BigInt)\n",
    "    a :: BigInt, b :: BigInt, tmp :: BigInt = BigInt(1), BigInt(0), BigInt(0)\n",
    "    i :: Int = 1\n",
    "    while true\n",
    "        if a > lim\n",
    "            return i\n",
    "        else\n",
    "            tmp = a\n",
    "            a += b\n",
    "            b = tmp\n",
    "            i += 1\n",
    "        end\n",
    "    end\n",
    "end"
   ]
  },
  {
   "cell_type": "code",
   "execution_count": 2,
   "metadata": {
    "collapsed": false,
    "slideshow": {
     "slide_type": "-"
    }
   },
   "outputs": [
    {
     "name": "stderr",
     "output_type": "stream",
     "text": [
      "INFO: Building Homebrew\n"
     ]
    },
    {
     "name": "stdout",
     "output_type": "stream",
     "text": [
      "HEAD is now at d9326f4 media-info: pass audit strict, add test\n",
      "HEAD is now at 6d4cd94 Merge branch 'staging'\n"
     ]
    },
    {
     "name": "stderr",
     "output_type": "stream",
     "text": [
      "INFO: Building Cairo\n",
      "INFO: Building Tk\n"
     ]
    }
   ],
   "source": [
    "Pkg.build(\"Winston\")"
   ]
  },
  {
   "cell_type": "code",
   "execution_count": 46,
   "metadata": {
    "collapsed": false
   },
   "outputs": [],
   "source": [
    "import Gadfly"
   ]
  },
  {
   "cell_type": "code",
   "execution_count": 1,
   "metadata": {
    "collapsed": false
   },
   "outputs": [
    {
     "name": "stderr",
     "output_type": "stream",
     "text": [
      "INFO: Building Homebrew\n"
     ]
    },
    {
     "name": "stdout",
     "output_type": "stream",
     "text": [
      "HEAD is now at d9326f4 media-info: pass audit strict, add test\n",
      "HEAD is now at 6d4cd94 Merge branch 'staging'\n"
     ]
    },
    {
     "name": "stderr",
     "output_type": "stream",
     "text": [
      "INFO: Building Cairo\n"
     ]
    },
    {
     "name": "stdout",
     "output_type": "stream",
     "text": [
      "==> Installing pango from staticfloat/homebrew-juliadeps\n",
      "==> Installing dependencies for staticfloat/juliadeps/pango: staticfloat/juliadeps/icu4c, staticfloat/juliadeps/harfbuzz, staticfloat/juliadeps/gobject-introspection\n",
      "==> Installing staticfloat/juliadeps/pango dependency: staticfloat/juliadeps/icu4c\n",
      "==> Downloading https://juliabottles.s3.amazonaws.com/icu4c-54.1.yosemite.bottle.tar.gz\n",
      "==> Pouring icu4c-54.1.yosemite.bottle.tar.gz\n",
      "==> Caveats\n",
      "This formula is keg-only, which means it was not symlinked into /Users/questmac/.julia/v0.3/Homebrew/deps/usr.\n",
      "\n",
      "OS X already provides this software and installing another version in\n",
      "parallel can cause all kinds of trouble.\n",
      "\n",
      "OS X provides libicucore.dylib (but nothing else).\n",
      "\n",
      "Generally there are no consequences of this for you. If you build your\n",
      "own software and it requires this formula, you'll need to add to your\n",
      "build variables:\n",
      "\n",
      "    LDFLAGS:  -L/Users/questmac/.julia/v0.3/Homebrew/deps/usr/opt/icu4c/lib\n",
      "    CPPFLAGS: -I/Users/questmac/.julia/v0.3/Homebrew/deps/usr/opt/icu4c/include\n",
      "\n",
      "==> Summary\n",
      "🍺  /Users/questmac/.julia/v0.3/Homebrew/deps/usr/Cellar/icu4c/54.1: 242 files, 65M\n",
      "==> Installing staticfloat/juliadeps/pango dependency: staticfloat/juliadeps/harfbuzz\n",
      "==> Downloading https://juliabottles.s3.amazonaws.com/harfbuzz-0.9.37.yosemite.bottle.tar.gz\n",
      "==> Pouring harfbuzz-0.9.37.yosemite.bottle.tar.gz\n",
      "🍺  /Users/questmac/.julia/v0.3/Homebrew/deps/usr/Cellar/harfbuzz/0.9.37: 72 files, 2.9M\n",
      "==> Installing staticfloat/juliadeps/pango dependency: staticfloat/juliadeps/gobject-introspection\n",
      "==> Downloading https://juliabottles.s3.amazonaws.com/gobject-introspection-1.42.0.yosemite.bottle.tar.gz\n",
      "==> Pouring gobject-introspection-1.42.0.yosemite.bottle.tar.gz\n",
      "🍺  /Users/questmac/.julia/v0.3/Homebrew/deps/usr/Cellar/gobject-introspection/1.42.0: 196 files, 10M\n",
      "==> Installing staticfloat/juliadeps/pango\n",
      "==> Downloading https://juliabottles.s3.amazonaws.com/pango-1.36.8.yosemite.bottle.1.tar.gz\n",
      "==> Pouring pango-1.36.8.yosemite.bottle.1.tar.gz\n",
      "🍺  /Users/questmac/.julia/v0.3/Homebrew/deps/usr/Cellar/pango/1.36.8: 132 files, 4.8M\n",
      "To relink: brew unlink pango && brew link pango\n"
     ]
    }
   ],
   "source": [
    "Pkg.build(\"Cairo\")"
   ]
  },
  {
   "cell_type": "code",
   "execution_count": 30,
   "metadata": {
    "collapsed": false
   },
   "outputs": [],
   "source": [
    "using Gadfly"
   ]
  },
  {
   "cell_type": "code",
   "execution_count": 22,
   "metadata": {
    "collapsed": false
   },
   "outputs": [
    {
     "name": "stdout",
     "output_type": "stream",
     "text": [
      "elapsed time: 0.011783507 seconds (2250296 bytes allocated)\n"
     ]
    },
    {
     "data": {
      "text/plain": [
       "142913828922"
      ]
     },
     "execution_count": 22,
     "metadata": {},
     "output_type": "execute_result"
    }
   ],
   "source": [
    "@time sumsieve2(2000000)"
   ]
  },
  {
   "cell_type": "code",
   "execution_count": 23,
   "metadata": {
    "collapsed": false
   },
   "outputs": [
    {
     "name": "stderr",
     "output_type": "stream",
     "text": [
      "INFO: Nothing to be done\n"
     ]
    }
   ],
   "source": [
    "Pkg.add(\"Winston\")"
   ]
  },
  {
   "cell_type": "code",
   "execution_count": 31,
   "metadata": {
    "collapsed": false
   },
   "outputs": [],
   "source": [
    "using Winston"
   ]
  },
  {
   "cell_type": "code",
   "execution_count": 16,
   "metadata": {
    "collapsed": false
   },
   "outputs": [
    {
     "name": "stdout",
     "output_type": "stream",
     "text": [
      "elapsed time: 0.000768125 seconds (135320 bytes allocated)\n"
     ]
    },
    {
     "data": {
      "text/plain": [
       "104743"
      ]
     },
     "execution_count": 16,
     "metadata": {},
     "output_type": "execute_result"
    }
   ],
   "source": [
    "@time nthsieve(10001)"
   ]
  },
  {
   "cell_type": "code",
   "execution_count": 14,
   "metadata": {
    "collapsed": false
   },
   "outputs": [
    {
     "data": {
      "text/plain": [
       "nthsieve (generic function with 1 method)"
      ]
     },
     "execution_count": 14,
     "metadata": {},
     "output_type": "execute_result"
    }
   ],
   "source": [
    "function nthsieve (n :: Int)\n",
    "    lim :: Int = n*12\n",
    "    llim :: Int = isqrt(lim)\n",
    "    primes :: Array = trues(lim)\n",
    "    res :: Int = 1\n",
    "    for i = 3:2:llim \n",
    "        if primes[i]\n",
    "            for j = i*i:2*i:lim\n",
    "                primes[j] = false\n",
    "            end\n",
    "        end\n",
    "    end\n",
    "    for i = 3:2:lim\n",
    "        if primes[i]\n",
    "            res += 1\n",
    "        end\n",
    "        if res == n\n",
    "            return i\n",
    "        end\n",
    "    end\n",
    "end"
   ]
  },
  {
   "cell_type": "code",
   "execution_count": 1,
   "metadata": {
    "collapsed": false
   },
   "outputs": [
    {
     "data": {
      "text/plain": [
       "sqr (generic function with 1 method)"
      ]
     },
     "execution_count": 1,
     "metadata": {},
     "output_type": "execute_result"
    }
   ],
   "source": [
    "function sqr(x:: Int)\n",
    "    x*x\n",
    "end"
   ]
  },
  {
   "cell_type": "code",
   "execution_count": 2,
   "metadata": {
    "collapsed": false
   },
   "outputs": [
    {
     "data": {
      "text/plain": [
       "14400"
      ]
     },
     "execution_count": 2,
     "metadata": {},
     "output_type": "execute_result"
    }
   ],
   "source": [
    "sqr(120)"
   ]
  },
  {
   "cell_type": "code",
   "execution_count": 17,
   "metadata": {
    "collapsed": false
   },
   "outputs": [
    {
     "data": {
      "text/plain": [
       "sumsieve2 (generic function with 1 method)"
      ]
     },
     "execution_count": 17,
     "metadata": {},
     "output_type": "execute_result"
    }
   ],
   "source": [
    "function sumsieve2(lim :: Int)\n",
    "    res :: Int = 2\n",
    "    primes :: Array = trues(lim)\n",
    "    llim :: Int = isqrt(lim)\n",
    "    for i = 3:2:llim\n",
    "        if primes[i]\n",
    "            for j = i*i:2*i:lim\n",
    "                primes[j] = false\n",
    "            end\n",
    "            res += i\n",
    "        end\n",
    "    end\n",
    "    if 0 == rem(llim,2) \n",
    "        llim += 1\n",
    "    else\n",
    "        llim += 2\n",
    "    end\n",
    "    for i = llim:2:lim\n",
    "        if primes[i]\n",
    "            res += i\n",
    "        end\n",
    "    end\n",
    "    res\n",
    "end"
   ]
  },
  {
   "cell_type": "code",
   "execution_count": 3,
   "metadata": {
    "collapsed": false
   },
   "outputs": [
    {
     "data": {
      "text/plain": [
       "sumsieve (generic function with 1 method)"
      ]
     },
     "execution_count": 3,
     "metadata": {},
     "output_type": "execute_result"
    }
   ],
   "source": [
    "function sumsieve(lim::Int)\n",
    "    res :: Int = 2\n",
    "    primes :: Array = trues(lim)\n",
    "    llim :: Int = isqrt(lim)\n",
    "    for i = 3:2:lim\n",
    "        if primes[i]\n",
    "            if i <= llim \n",
    "                for j = i*i:2*i:lim \n",
    "                    primes[j] = false\n",
    "                end\n",
    "            end\n",
    "            res += i\n",
    "        end\n",
    "    end\n",
    "    res \n",
    "end"
   ]
  },
  {
   "cell_type": "code",
   "execution_count": 7,
   "metadata": {
    "collapsed": false
   },
   "outputs": [
    {
     "name": "stdout",
     "output_type": "stream",
     "text": [
      "elapsed time: 0.011628589 seconds (2250296 bytes allocated)\n"
     ]
    },
    {
     "data": {
      "text/plain": [
       "142913828922"
      ]
     },
     "execution_count": 7,
     "metadata": {},
     "output_type": "execute_result"
    }
   ],
   "source": [
    "@time sumsieve(2000000)"
   ]
  },
  {
   "cell_type": "code",
   "execution_count": null,
   "metadata": {
    "collapsed": true
   },
   "outputs": [],
   "source": []
  }
 ],
 "metadata": {
  "celltoolbar": "Raw Cell Format",
  "kernelspec": {
   "display_name": "Julia 0.3.10",
   "language": "julia",
   "name": "julia-0.3"
  },
  "language_info": {
   "name": "julia",
   "version": "0.4.0"
  }
 },
 "nbformat": 4,
 "nbformat_minor": 0
}
